{
 "cells": [
  {
   "cell_type": "markdown",
   "metadata": {},
   "source": [
    "# Analisis Proyecto Alfa"
   ]
  },
  {
   "cell_type": "markdown",
   "metadata": {},
   "source": [
    "## Explicación Detallada"
   ]
  },
  {
   "cell_type": "code",
   "execution_count": 2,
   "metadata": {},
   "outputs": [
    {
     "name": "stderr",
     "output_type": "stream",
     "text": [
      "Matplotlib is building the font cache; this may take a moment.\n"
     ]
    }
   ],
   "source": [
    "import numpy as np\n",
    "import pandas as pd\n",
    "import csv\n",
    "import os\n",
    "import matplotlib.pyplot as plt"
   ]
  },
  {
   "cell_type": "code",
   "execution_count": 3,
   "metadata": {},
   "outputs": [],
   "source": [
    "fileJuegoPath=\"./juego/\"\n",
    "fileJuegoPath=\"./registro/\"\n",
    "initial_clients = 50\n",
    "final_clients = 500"
   ]
  },
  {
   "cell_type": "code",
   "execution_count": 7,
   "metadata": {},
   "outputs": [],
   "source": [
    "#Get average for each client\n",
    "for number_clients in range(initial_clients,final_clients+1,50):\n",
    "    for current_iter in range(10):\n",
    "        fileName=str(number_clients)+\"_clientes_\"+str(current_iter)+\".csv\"\n",
    "        # Read the CSV file\n",
    "        # print(fileName)\n",
    "        try:\n",
    "            with open(fileJuegoPath+fileName, 'r') as file:\n",
    "                reader = csv.reader(file)\n",
    "                data = list(reader)\n",
    "            \n",
    "            # Convert the data to a NumPy array\n",
    "            data_array = np.array(data, dtype=float)\n",
    "\n",
    "\n",
    "            # Calculate the average for each row\n",
    "            averages = np.mean(data_array, axis=1)\n",
    "\n",
    "            # Write the averages to a new CSV file in the output directory\n",
    "\n",
    "            output_directory = 'Analysis/Juego'\n",
    "            os.makedirs(output_directory, exist_ok=True)\n",
    "\n",
    "            output_path = os.path.join(output_directory, fileName)\n",
    "            with open(output_path, 'w', newline='') as file:\n",
    "                writer = csv.writer(file)\n",
    "                # writer.writerow(['Average'])  # Write header\n",
    "                for average in averages:\n",
    "                    writer.writerow([average])\n",
    "\n",
    "\n",
    "        except:\n",
    "            pass\n",
    "\n",
    "       \n",
    "    "
   ]
  },
  {
   "cell_type": "code",
   "execution_count": 8,
   "metadata": {},
   "outputs": [
    {
     "name": "stdout",
     "output_type": "stream",
     "text": [
      "  Number of Clients  Average Standard Deviation\n",
      "0                50                    0.000827\n",
      "1               100                         NaN\n",
      "2               150                         NaN\n",
      "3               200                         NaN\n",
      "4               250                         NaN\n",
      "5               300                         NaN\n",
      "6               350                         NaN\n",
      "7               400                         NaN\n",
      "8               450                         NaN\n",
      "9               500                         NaN\n"
     ]
    },
    {
     "name": "stderr",
     "output_type": "stream",
     "text": [
      "C:\\Users\\intercambio\\AppData\\Local\\Temp\\ipykernel_7488\\3191474503.py:24: FutureWarning: The behavior of DataFrame concatenation with empty or all-NA entries is deprecated. In a future version, this will no longer exclude empty or all-NA columns when determining the result dtypes. To retain the old behavior, exclude the relevant entries before the concat operation.\n",
      "  result_df = pd.concat([result_df, new_row_df], ignore_index=True)\n",
      "c:\\Users\\intercambio\\AppData\\Local\\Programs\\Python\\Python312\\Lib\\site-packages\\numpy\\core\\fromnumeric.py:3504: RuntimeWarning: Mean of empty slice.\n",
      "  return _methods._mean(a, axis=axis, dtype=dtype,\n",
      "c:\\Users\\intercambio\\AppData\\Local\\Programs\\Python\\Python312\\Lib\\site-packages\\numpy\\core\\_methods.py:129: RuntimeWarning: invalid value encountered in scalar divide\n",
      "  ret = ret.dtype.type(ret / rcount)\n"
     ]
    }
   ],
   "source": [
    "#Sacar la std the ambos csv\n",
    "filepath=\"./Analysis/Juego/\"\n",
    "# Create a DataFrame to store results\n",
    "result_df = pd.DataFrame(columns=['Number of Clients', 'Average Standard Deviation'])\n",
    "\n",
    "\n",
    "for number_clients in range(initial_clients,final_clients+1,50):\n",
    "    std_values = []\n",
    "    for current_iter in range(10):\n",
    "        fileName=str(number_clients)+\"_clientes_\"+str(current_iter)+\".csv\"\n",
    "        try:\n",
    "            with open(filepath+fileName, 'r') as file:\n",
    "                    reader = csv.reader(file)\n",
    "                    for row in reader:\n",
    "                        std_values.append(float(row[0]))\n",
    "        except:\n",
    "             pass\n",
    "\n",
    "         # Calculate average of standard deviation values\n",
    "    average_std = np.mean(std_values)\n",
    "    # Append to DataFrame\n",
    "    new_row_df = pd.DataFrame({'Number of Clients': [number_clients], 'Average Standard Deviation': [average_std]})\n",
    "    # Concatenate DataFrames\n",
    "    result_df = pd.concat([result_df, new_row_df], ignore_index=True)\n",
    "    \n",
    "    \n",
    "\n",
    "print(result_df)"
   ]
  },
  {
   "cell_type": "code",
   "execution_count": 9,
   "metadata": {},
   "outputs": [
    {
     "data": {
      "image/png": "[encoded data removed]",
      "text/plain": [
       "<Figure size 640x480 with 1 Axes>"
      ]
     },
     "metadata": {},
     "output_type": "display_data"
    }
   ],
   "source": [
    "# Plot the DataFrame\n",
    "result_df.plot(x='Number of Clients', y='Average Standard Deviation', kind='line', marker='o')\n",
    "\n",
    "# Add labels and title\n",
    "plt.xlabel('X-axis Label')\n",
    "plt.ylabel('Y-axis Label')\n",
    "plt.title('DataFrame Plot')\n",
    "\n",
    "# Show the plot\n",
    "plt.show()"
   ]
  }
 ],
 "metadata": {
  "kernelspec": {
   "display_name": "Python 3",
   "language": "python",
   "name": "python3"
  },
  "language_info": {
   "codemirror_mode": {
    "name": "ipython",
    "version": 3
   },
   "file_extension": ".py",
   "mimetype": "text/x-python",
   "name": "python",
   "nbconvert_exporter": "python",
   "pygments_lexer": "ipython3",
   "version": "3.12.0"
  }
 },
 "nbformat": 4,
 "nbformat_minor": 2
}
