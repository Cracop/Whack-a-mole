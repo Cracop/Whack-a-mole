{
 "cells": [
  {
   "cell_type": "markdown",
   "metadata": {},
   "source": [
    "# Reporte Proyecto Alfa"
   ]
  },
  {
   "cell_type": "code",
   "execution_count": 4,
   "metadata": {},
   "outputs": [],
   "source": [
    "import numpy as np\n",
    "import pandas as pd\n",
    "import csv\n",
    "import os"
   ]
  },
  {
   "cell_type": "code",
   "execution_count": 14,
   "metadata": {},
   "outputs": [],
   "source": [
    "fileJuegoPath=\"./juego/\"\n",
    "fileJuegoPath=\"./registro/\"\n",
    "initial_clients = 50\n",
    "final_clients = 50"
   ]
  },
  {
   "cell_type": "code",
   "execution_count": 15,
   "metadata": {},
   "outputs": [],
   "source": [
    "#Get average for each client\n",
    "for number_clients in range(initial_clients,final_clients+1,50):\n",
    "    for current_iter in range(10):\n",
    "        fileName=str(number_clients)+\"_clientes_\"+str(current_iter)+\".csv\"\n",
    "        # Read the CSV file\n",
    "        # print(fileName)\n",
    "        try:\n",
    "            with open(fileJuegoPath+fileName, 'r') as file:\n",
    "                reader = csv.reader(file)\n",
    "                data = list(reader)\n",
    "            \n",
    "            # Convert the data to a NumPy array\n",
    "            data_array = np.array(data, dtype=float)\n",
    "\n",
    "\n",
    "            # Calculate the average for each row\n",
    "            averages = np.mean(data_array, axis=1)\n",
    "\n",
    "            # Write the averages to a new CSV file in the output directory\n",
    "\n",
    "            output_directory = 'Analysis/Juego'\n",
    "            os.makedirs(output_directory, exist_ok=True)\n",
    "\n",
    "            output_path = os.path.join(output_directory, fileName)\n",
    "            with open(output_path, 'w', newline='') as file:\n",
    "                writer = csv.writer(file)\n",
    "                # writer.writerow(['Average'])  # Write header\n",
    "                for average in averages:\n",
    "                    writer.writerow([average])\n",
    "\n",
    "\n",
    "        except:\n",
    "            pass\n",
    "\n",
    "       \n",
    "    "
   ]
  },
  {
   "cell_type": "code",
   "execution_count": 23,
   "metadata": {},
   "outputs": [
    {
     "name": "stdout",
     "output_type": "stream",
     "text": [
      "  Number of Clients  Average Standard Deviation\n",
      "0                50                    0.001522\n"
     ]
    }
   ],
   "source": [
    "#Sacar la std the ambos csv\n",
    "filepath=\"./Analysis/Juego/\"\n",
    "# Create a DataFrame to store results\n",
    "result_df = pd.DataFrame(columns=['Number of Clients', 'Average Standard Deviation'])\n",
    "\n",
    "\n",
    "for number_clients in range(initial_clients,final_clients+1,50):\n",
    "    std_values = []\n",
    "    for current_iter in range(10):\n",
    "        fileName=str(number_clients)+\"_clientes_\"+str(current_iter)+\".csv\"\n",
    "\n",
    "        with open(filepath+fileName, 'r') as file:\n",
    "                reader = csv.reader(file)\n",
    "                for row in reader:\n",
    "                    std_values.append(float(row[0]))\n",
    "\n",
    "         # Calculate average of standard deviation values\n",
    "    average_std = np.mean(std_values)\n",
    "    # Append to DataFrame\n",
    "    new_row_df = pd.DataFrame({'Number of Clients': [number_clients], 'Average Standard Deviation': [average_std]})\n",
    "    # Concatenate DataFrames\n",
    "    result_df = pd.concat([result_df, new_row_df], ignore_index=True)\n",
    "    \n",
    "    \n",
    "\n",
    "print(result_df)"
   ]
  }
 ],
 "metadata": {
  "kernelspec": {
   "display_name": "Python 3",
   "language": "python",
   "name": "python3"
  },
  "language_info": {
   "codemirror_mode": {
    "name": "ipython",
    "version": 3
   },
   "file_extension": ".py",
   "mimetype": "text/x-python",
   "name": "python",
   "nbconvert_exporter": "python",
   "pygments_lexer": "ipython3",
   "version": "3.11.5"
  }
 },
 "nbformat": 4,
 "nbformat_minor": 2
}
